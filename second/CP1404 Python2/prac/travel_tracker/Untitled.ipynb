{
 "cells": [
  {
   "cell_type": "code",
   "execution_count": 1,
   "id": "50928c7b",
   "metadata": {},
   "outputs": [],
   "source": [
    "FILE = \"places.csv\""
   ]
  },
  {
   "cell_type": "code",
   "execution_count": 28,
   "id": "4860b068",
   "metadata": {},
   "outputs": [],
   "source": [
    "def read_data(file):\n",
    "    places = []\n",
    "    with open(file, \"r\") as f:\n",
    "        for line in f.readlines():\n",
    "            a_dict = {}\n",
    "            a_list = line.strip().split(\",\")\n",
    "            a_dict['city'] = a_list[0]\n",
    "            a_dict['country'] = a_list[1]\n",
    "            a_dict['priority'] = int(a_list[2])\n",
    "            a_dict['visited'] = a_list[3]\n",
    "            places.append(a_dict)\n",
    "    return places\n"
   ]
  },
  {
   "cell_type": "code",
   "execution_count": 29,
   "id": "444497f8",
   "metadata": {},
   "outputs": [
    {
     "data": {
      "text/plain": [
       "[{'city': 'Lima', 'country': 'Peru', 'priority': 3, 'visited': 'n'},\n",
       " {'city': 'Auckland', 'country': 'New Zealand', 'priority': 1, 'visited': 'v'},\n",
       " {'city': 'Rome', 'country': 'Italy', 'priority': 12, 'visited': 'n'}]"
      ]
     },
     "execution_count": 29,
     "metadata": {},
     "output_type": "execute_result"
    }
   ],
   "source": [
    "read_data(FILE)"
   ]
  },
  {
   "cell_type": "code",
   "execution_count": 30,
   "id": "99ec08f4",
   "metadata": {},
   "outputs": [],
   "source": [
    "def read_data(file):\n",
    "    places = []\n",
    "    with open(file, \"r\") as f:\n",
    "        \n",
    "        for line in f.readlines():\n",
    "            a_dict = {}\n",
    "            a_list = line.strip().split(\",\")\n",
    "            a_dict['city'] = a_list[0]\n",
    "            a_dict['country'] = a_list[1]\n",
    "            a_dict['priority'] = int(a_list[2])\n",
    "            a_dict['visited'] = a_list[3]\n",
    "            places.append(a_dict)\n",
    "    return places"
   ]
  },
  {
   "cell_type": "code",
   "execution_count": 31,
   "id": "2221c5fb",
   "metadata": {},
   "outputs": [
    {
     "data": {
      "text/plain": [
       "[{'city': 'Lima', 'country': 'Peru', 'priority': 3, 'visited': 'n'},\n",
       " {'city': 'Auckland', 'country': 'New Zealand', 'priority': 1, 'visited': 'v'},\n",
       " {'city': 'Rome', 'country': 'Italy', 'priority': 12, 'visited': 'n'}]"
      ]
     },
     "execution_count": 31,
     "metadata": {},
     "output_type": "execute_result"
    }
   ],
   "source": [
    "read_data(FILE)"
   ]
  },
  {
   "cell_type": "code",
   "execution_count": 35,
   "id": "c8b376de",
   "metadata": {},
   "outputs": [
    {
     "name": "stdout",
     "output_type": "stream",
     "text": [
      "*1.         Lima in            Peru   3\n",
      "*2.         Rome in           Italy  12\n",
      " 3.     Auckland in     New Zealand   1\n"
     ]
    }
   ],
   "source": [
    "from operator import itemgetter\n",
    "places = read_data(FILE)\n",
    "places_sorted = sorted(places, key=itemgetter('visited', 'priority'))\n",
    "for i, place in enumerate(places_sorted, 1):\n",
    "    star = \"*\" if place[\"visited\"] == \"n\" else \" \"\n",
    "    print(f\"{star}{i}. {place['city']:>12} in {place['country']:>15} {place['priority']:>3}\")"
   ]
  },
  {
   "cell_type": "code",
   "execution_count": 40,
   "id": "498f2911",
   "metadata": {},
   "outputs": [
    {
     "data": {
      "text/plain": [
       "['L', 'R', 'A', 'M', 'A']"
      ]
     },
     "execution_count": 40,
     "metadata": {},
     "output_type": "execute_result"
    }
   ],
   "source": [
    "\"L R A M A\".split()\n"
   ]
  },
  {
   "cell_type": "code",
   "execution_count": null,
   "id": "95318dbc",
   "metadata": {},
   "outputs": [],
   "source": []
  }
 ],
 "metadata": {
  "kernelspec": {
   "display_name": "Python 3 (ipykernel)",
   "language": "python",
   "name": "python3"
  },
  "language_info": {
   "codemirror_mode": {
    "name": "ipython",
    "version": 3
   },
   "file_extension": ".py",
   "mimetype": "text/x-python",
   "name": "python",
   "nbconvert_exporter": "python",
   "pygments_lexer": "ipython3",
   "version": "3.8.3"
  }
 },
 "nbformat": 4,
 "nbformat_minor": 5
}
